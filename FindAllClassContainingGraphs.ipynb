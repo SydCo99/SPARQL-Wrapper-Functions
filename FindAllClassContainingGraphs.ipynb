{
 "cells": [
  {
   "cell_type": "code",
   "execution_count": 5,
   "id": "3b4e62d1-a4de-4f65-9fae-2d5467cfbb5b",
   "metadata": {},
   "outputs": [],
   "source": [
    "from SPARQLWrapper import SPARQLWrapper, XML, JSON"
   ]
  },
  {
   "cell_type": "code",
   "execution_count": 20,
   "id": "89449773-08d1-49b0-8080-378166b0cff3",
   "metadata": {},
   "outputs": [],
   "source": [
    "#hard code the source \n",
    "source = \"http://sparql.hegroup.org/sparql/\""
   ]
  },
  {
   "cell_type": "code",
   "execution_count": 2,
   "id": "2238c6f5-bd9a-4e16-ae1a-f8f9d292618b",
   "metadata": {},
   "outputs": [
    {
     "name": "stdin",
     "output_type": "stream",
     "text": [
      "What is your source URI? hey\n"
     ]
    }
   ],
   "source": [
    "#Or, query the user to input a source URI \n",
    "source = input(\"What is your source URI?\")"
   ]
  },
  {
   "cell_type": "code",
   "execution_count": 23,
   "id": "d4442ceb-4029-40eb-ac1b-53f4ade00eee",
   "metadata": {},
   "outputs": [],
   "source": [
    "#Function to find all class containing graphs (XML Output)\n",
    "def class_containing_graphs(source):\n",
    "    sparql = SPARQLWrapper(source)\n",
    "    sparql.setReturnFormat(XML)\n",
    "    sparql.setQuery(\"\"\"\n",
    "    prefix rdf: <http://www.w3.org/1999/02/22-rdf-syntax-ns#>\n",
    "    prefix owl: <http://www.w3.org/2002/07/owl#>\n",
    "    \n",
    "    SELECT distinct ?graph_uri\n",
    "    WHERE {\n",
    "    GRAPH ?graph_uri\n",
    "    { ?s rdf:type owl:Class }\n",
    "    }\n",
    "    LIMIT 5\n",
    "    \"\"\")\n",
    "    results = sparql.query().convert()\n",
    "    print(results.toxml())"
   ]
  },
  {
   "cell_type": "code",
   "execution_count": 24,
   "id": "266cbfa9-a810-469a-8033-eeb7005e9861",
   "metadata": {},
   "outputs": [
    {
     "name": "stdout",
     "output_type": "stream",
     "text": [
      "<?xml version=\"1.0\" ?><sparql xmlns=\"http://www.w3.org/2005/sparql-results#\" xmlns:xsi=\"http://www.w3.org/2001/XMLSchema-instance\" xsi:schemaLocation=\"http://www.w3.org/2001/sw/DataAccess/rf1/result2.xsd\">\n",
      " <head>\n",
      "  <variable name=\"graph_uri\"/>\n",
      " </head>\n",
      " <results distinct=\"false\" ordered=\"true\">\n",
      "  <result>\n",
      "   <binding name=\"graph_uri\"><uri>http://www.w3.org/2002/07/owl#</uri></binding>\n",
      "  </result>\n",
      "  <result>\n",
      "   <binding name=\"graph_uri\"><uri>http://purl.obolibrary.org/obo/merged/OSCI</uri></binding>\n",
      "  </result>\n",
      "  <result>\n",
      "   <binding name=\"graph_uri\"><uri>http://purl.obolibrary.org/obo/merged/VO</uri></binding>\n",
      "  </result>\n",
      "  <result>\n",
      "   <binding name=\"graph_uri\"><uri>http://purl.obolibrary.org/obo/merged/OBCS</uri></binding>\n",
      "  </result>\n",
      "  <result>\n",
      "   <binding name=\"graph_uri\"><uri>http://purl.obolibrary.org/obo/merged/PPO</uri></binding>\n",
      "  </result>\n",
      " </results>\n",
      "</sparql>\n"
     ]
    }
   ],
   "source": [
    "class_containing_graphs(source)"
   ]
  },
  {
   "cell_type": "code",
   "execution_count": 27,
   "id": "77b612ab-f038-440e-ab41-1c639259e31e",
   "metadata": {},
   "outputs": [],
   "source": [
    "#Function to find all class containing graphs (JSON Output)\n",
    "def class_containing_graphs(source):\n",
    "    sparql = SPARQLWrapper(source)\n",
    "    sparql.setReturnFormat(JSON)\n",
    "    sparql.setQuery(\"\"\"\n",
    "    prefix rdf: <http://www.w3.org/1999/02/22-rdf-syntax-ns#>\n",
    "    prefix owl: <http://www.w3.org/2002/07/owl#>\n",
    "    \n",
    "    SELECT distinct ?graph_uri\n",
    "    WHERE {\n",
    "    GRAPH ?graph_uri\n",
    "    { ?s rdf:type owl:Class }\n",
    "    }\n",
    "    LIMIT 10\n",
    "    \"\"\")\n",
    "    try: \n",
    "        ret = sparql.queryAndConvert()\n",
    "        for r in ret[\"results\"][\"bindings\"]:\n",
    "                print(r)\n",
    "    except: \n",
    "        print(\"Oh Noes!\")"
   ]
  },
  {
   "cell_type": "code",
   "execution_count": 28,
   "id": "73181a4d-0990-47e7-83cf-4b7c4eedc264",
   "metadata": {},
   "outputs": [
    {
     "name": "stdout",
     "output_type": "stream",
     "text": [
      "{'graph_uri': {'type': 'uri', 'value': 'http://www.w3.org/2002/07/owl#'}}\n",
      "{'graph_uri': {'type': 'uri', 'value': 'http://purl.obolibrary.org/obo/merged/OSCI'}}\n",
      "{'graph_uri': {'type': 'uri', 'value': 'http://purl.obolibrary.org/obo/merged/VO'}}\n",
      "{'graph_uri': {'type': 'uri', 'value': 'http://purl.obolibrary.org/obo/merged/OBCS'}}\n",
      "{'graph_uri': {'type': 'uri', 'value': 'http://purl.obolibrary.org/obo/merged/PPO'}}\n",
      "{'graph_uri': {'type': 'uri', 'value': 'http://purl.obolibrary.org/obo/merged/ECO'}}\n",
      "{'graph_uri': {'type': 'uri', 'value': 'http://purl.obolibrary.org/obo/merged/OMIABIS'}}\n",
      "{'graph_uri': {'type': 'uri', 'value': 'http://purl.obolibrary.org/obo/obi/NIAID-GSC-BRC.owl'}}\n",
      "{'graph_uri': {'type': 'uri', 'value': 'http://purl.obolibrary.org/obo/merged/MRO'}}\n",
      "{'graph_uri': {'type': 'uri', 'value': 'http://purl.obolibrary.org/obo/merged/ICO'}}\n"
     ]
    }
   ],
   "source": [
    "class_containing_graphs(source)"
   ]
  }
 ],
 "metadata": {
  "kernelspec": {
   "display_name": "Python 3 (ipykernel)",
   "language": "python",
   "name": "python3"
  },
  "language_info": {
   "codemirror_mode": {
    "name": "ipython",
    "version": 3
   },
   "file_extension": ".py",
   "mimetype": "text/x-python",
   "name": "python",
   "nbconvert_exporter": "python",
   "pygments_lexer": "ipython3",
   "version": "3.9.7"
  }
 },
 "nbformat": 4,
 "nbformat_minor": 5
}
