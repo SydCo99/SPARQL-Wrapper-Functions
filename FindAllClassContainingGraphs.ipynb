{
 "cells": [
  {
   "cell_type": "code",
   "execution_count": 26,
   "id": "3b4e62d1-a4de-4f65-9fae-2d5467cfbb5b",
   "metadata": {},
   "outputs": [],
   "source": [
    "from SPARQLWrapper import SPARQLWrapper, XML, JSON\n",
    "import pandas as pd"
   ]
  },
  {
   "cell_type": "code",
   "execution_count": 2,
   "id": "89449773-08d1-49b0-8080-378166b0cff3",
   "metadata": {},
   "outputs": [],
   "source": [
    "#hard code the source \n",
    "source = \"http://sparql.hegroup.org/sparql/\""
   ]
  },
  {
   "cell_type": "code",
   "execution_count": 3,
   "id": "2238c6f5-bd9a-4e16-ae1a-f8f9d292618b",
   "metadata": {},
   "outputs": [
    {
     "name": "stdin",
     "output_type": "stream",
     "text": [
      "What is your source URI? http://sparql.hegroup.org/sparql/\n"
     ]
    }
   ],
   "source": [
    "#Or, query the user to input a source URI \n",
    "source = input(\"What is your source URI?\")"
   ]
  },
  {
   "cell_type": "code",
   "execution_count": 32,
   "id": "77b612ab-f038-440e-ab41-1c639259e31e",
   "metadata": {},
   "outputs": [],
   "source": [
    "#Function to find all class containing graphs (JSON Output)\n",
    "def class_containing_graphs(source):\n",
    "    sparql = SPARQLWrapper(source)\n",
    "    sparql.setReturnFormat(JSON)\n",
    "    sparql.setQuery(\"\"\"\n",
    "    prefix rdf: <http://www.w3.org/1999/02/22-rdf-syntax-ns#>\n",
    "    prefix owl: <http://www.w3.org/2002/07/owl#>\n",
    "    \n",
    "    SELECT distinct ?graph_uri\n",
    "    WHERE {\n",
    "    GRAPH ?graph_uri\n",
    "    { ?s rdf:type owl:Class }\n",
    "    }\n",
    "    LIMIT 10\n",
    "    \"\"\")\n",
    "    try: \n",
    "        ret = sparql.queryAndConvert()\n",
    "        results = []\n",
    "        for r in ret[\"results\"][\"bindings\"]:\n",
    "            results.append(r)\n",
    "        graph_uris = []\n",
    "        for result in results:\n",
    "            graph_uris.append(result['graph_uri']['value'])\n",
    "        df = pd.DataFrame({\"graph_uri\": graph_uris})\n",
    "        pd.set_option('display.max_rows', None)\n",
    "\n",
    "        return df\n",
    "    except: \n",
    "        print(\"Oh Noes!\")"
   ]
  },
  {
   "cell_type": "code",
   "execution_count": 33,
   "id": "73181a4d-0990-47e7-83cf-4b7c4eedc264",
   "metadata": {},
   "outputs": [
    {
     "data": {
      "text/html": [
       "<div>\n",
       "<style scoped>\n",
       "    .dataframe tbody tr th:only-of-type {\n",
       "        vertical-align: middle;\n",
       "    }\n",
       "\n",
       "    .dataframe tbody tr th {\n",
       "        vertical-align: top;\n",
       "    }\n",
       "\n",
       "    .dataframe thead th {\n",
       "        text-align: right;\n",
       "    }\n",
       "</style>\n",
       "<table border=\"1\" class=\"dataframe\">\n",
       "  <thead>\n",
       "    <tr style=\"text-align: right;\">\n",
       "      <th></th>\n",
       "      <th>graph_uri</th>\n",
       "    </tr>\n",
       "  </thead>\n",
       "  <tbody>\n",
       "    <tr>\n",
       "      <th>0</th>\n",
       "      <td>http://www.w3.org/2002/07/owl#</td>\n",
       "    </tr>\n",
       "    <tr>\n",
       "      <th>1</th>\n",
       "      <td>http://purl.obolibrary.org/obo/merged/OSCI</td>\n",
       "    </tr>\n",
       "    <tr>\n",
       "      <th>2</th>\n",
       "      <td>http://purl.obolibrary.org/obo/merged/VO</td>\n",
       "    </tr>\n",
       "    <tr>\n",
       "      <th>3</th>\n",
       "      <td>http://purl.obolibrary.org/obo/merged/OBCS</td>\n",
       "    </tr>\n",
       "    <tr>\n",
       "      <th>4</th>\n",
       "      <td>http://purl.obolibrary.org/obo/merged/PPO</td>\n",
       "    </tr>\n",
       "    <tr>\n",
       "      <th>5</th>\n",
       "      <td>http://purl.obolibrary.org/obo/merged/ECO</td>\n",
       "    </tr>\n",
       "    <tr>\n",
       "      <th>6</th>\n",
       "      <td>http://purl.obolibrary.org/obo/merged/OMIABIS</td>\n",
       "    </tr>\n",
       "    <tr>\n",
       "      <th>7</th>\n",
       "      <td>http://purl.obolibrary.org/obo/obi/NIAID-GSC-B...</td>\n",
       "    </tr>\n",
       "    <tr>\n",
       "      <th>8</th>\n",
       "      <td>http://purl.obolibrary.org/obo/merged/MRO</td>\n",
       "    </tr>\n",
       "    <tr>\n",
       "      <th>9</th>\n",
       "      <td>http://purl.obolibrary.org/obo/merged/ICO</td>\n",
       "    </tr>\n",
       "  </tbody>\n",
       "</table>\n",
       "</div>"
      ],
      "text/plain": [
       "                                           graph_uri\n",
       "0                     http://www.w3.org/2002/07/owl#\n",
       "1         http://purl.obolibrary.org/obo/merged/OSCI\n",
       "2           http://purl.obolibrary.org/obo/merged/VO\n",
       "3         http://purl.obolibrary.org/obo/merged/OBCS\n",
       "4          http://purl.obolibrary.org/obo/merged/PPO\n",
       "5          http://purl.obolibrary.org/obo/merged/ECO\n",
       "6      http://purl.obolibrary.org/obo/merged/OMIABIS\n",
       "7  http://purl.obolibrary.org/obo/obi/NIAID-GSC-B...\n",
       "8          http://purl.obolibrary.org/obo/merged/MRO\n",
       "9          http://purl.obolibrary.org/obo/merged/ICO"
      ]
     },
     "execution_count": 33,
     "metadata": {},
     "output_type": "execute_result"
    }
   ],
   "source": [
    "class_containing_graphs(source)\n"
   ]
  }
 ],
 "metadata": {
  "kernelspec": {
   "display_name": "Python 3 (ipykernel)",
   "language": "python",
   "name": "python3"
  },
  "language_info": {
   "codemirror_mode": {
    "name": "ipython",
    "version": 3
   },
   "file_extension": ".py",
   "mimetype": "text/x-python",
   "name": "python",
   "nbconvert_exporter": "python",
   "pygments_lexer": "ipython3",
   "version": "3.9.7"
  }
 },
 "nbformat": 4,
 "nbformat_minor": 5
}
