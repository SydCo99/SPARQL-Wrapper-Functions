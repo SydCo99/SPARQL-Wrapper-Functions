{
 "cells": [
  {
   "cell_type": "code",
   "execution_count": 8,
   "id": "0fb032c1-9b2f-4ea1-93d9-888fc48ccd38",
   "metadata": {},
   "outputs": [],
   "source": [
    "from SPARQLWrapper import SPARQLWrapper, XML, JSON\n",
    "import pandas as pd"
   ]
  },
  {
   "cell_type": "code",
   "execution_count": 2,
   "id": "a9769d9f-c738-4fec-9ce5-cbeefe315681",
   "metadata": {},
   "outputs": [],
   "source": [
    "#hard code the source \n",
    "source = \"http://sparql.hegroup.org/sparql/\""
   ]
  },
  {
   "cell_type": "markdown",
   "id": "5d7e5504-127d-4732-b9d3-f4541312f942",
   "metadata": {},
   "source": [
    "To customize the function to your ontology,change the FILTER REGEX line under FILTER NOT EXISTS, to a regex string representing the URI pattern you expect all your URIs to conform to. "
   ]
  },
  {
   "cell_type": "code",
   "execution_count": 9,
   "id": "99ed14f8-7426-4a0f-9dd9-d1304c521cab",
   "metadata": {},
   "outputs": [],
   "source": [
    "#Function to find all class containing graphs (JSON Output)\n",
    "def bad_uris(source):\n",
    "    sparql = SPARQLWrapper(source)\n",
    "    sparql.setReturnFormat(JSON)\n",
    "    sparql.setQuery(\"\"\"\n",
    "    PREFIX obo: <http://purl.obolibrary.org/obo/>\n",
    "    PREFIX owl: <http://www.w3.org/2002/07/owl#>\n",
    "    PREFIX rdfs: <http://www.w3.org/2000/01/rdf-schema#>\n",
    "    PREFIX rdf: <http://www.w3.org/1999/02/22-rdf-syntax-ns#>\n",
    "    PREFIX oboInOwl: <http://www.geneontology.org/formats/oboInOwl#>\n",
    "    PREFIX edam:<http://edamontology.org/>\n",
    "    PREFIX xsd: <http://www.w3.org/2001/XMLSchema#>\n",
    "\n",
    "    SELECT DISTINCT ?entity ?label WHERE {\n",
    "\n",
    "        ?entity a owl:Class .\n",
    "        ?entity rdfs:label ?label .\n",
    "        FILTER NOT EXISTS { ?entity owl:deprecated true }\n",
    "\n",
    "        FILTER NOT EXISTS {\n",
    "            FILTER REGEX(str(?entity), \"^http://edamontology.org/(data|topic|operation|format)_[0-9]{4}$\")\n",
    "       }\n",
    "        FILTER ( ?entity != <http://www.geneontology.org/formats/oboInOwl#ObsoleteClass>)\n",
    "\n",
    "    }\n",
    "    ORDER BY ?entity\n",
    "    \n",
    "    \"\"\")   \n",
    "    try: \n",
    "        ret = sparql.queryAndConvert()\n",
    "        results = []\n",
    "        for r in ret[\"results\"][\"bindings\"]:\n",
    "            results.append(r)\n",
    "        uris = []\n",
    "        for result in results: \n",
    "            uris.append(result)\n",
    "        df = pd.DataFrame({\"uri\": uris})\n",
    "        pd.set_option('display.max_rows', None)\n",
    "        return df\n",
    "\n",
    "    except: \n",
    "        print(\"Oh Noes!\")"
   ]
  },
  {
   "cell_type": "code",
   "execution_count": 11,
   "id": "bb124bc8-28d2-4e6f-9aa9-b1d862abe391",
   "metadata": {},
   "outputs": [
    {
     "data": {
      "text/html": [
       "<div>\n",
       "<style scoped>\n",
       "    .dataframe tbody tr th:only-of-type {\n",
       "        vertical-align: middle;\n",
       "    }\n",
       "\n",
       "    .dataframe tbody tr th {\n",
       "        vertical-align: top;\n",
       "    }\n",
       "\n",
       "    .dataframe thead th {\n",
       "        text-align: right;\n",
       "    }\n",
       "</style>\n",
       "<table border=\"1\" class=\"dataframe\">\n",
       "  <thead>\n",
       "    <tr style=\"text-align: right;\">\n",
       "      <th></th>\n",
       "      <th>uri</th>\n",
       "    </tr>\n",
       "  </thead>\n",
       "  <tbody>\n",
       "  </tbody>\n",
       "</table>\n",
       "</div>"
      ],
      "text/plain": [
       "Empty DataFrame\n",
       "Columns: [uri]\n",
       "Index: []"
      ]
     },
     "execution_count": 11,
     "metadata": {},
     "output_type": "execute_result"
    }
   ],
   "source": [
    "#call the function \n",
    "# the example is empty because the regex example pattern is not present in the example sparql endpoint\n",
    "bad_uris(source)"
   ]
  }
 ],
 "metadata": {
  "kernelspec": {
   "display_name": "Python 3 (ipykernel)",
   "language": "python",
   "name": "python3"
  },
  "language_info": {
   "codemirror_mode": {
    "name": "ipython",
    "version": 3
   },
   "file_extension": ".py",
   "mimetype": "text/x-python",
   "name": "python",
   "nbconvert_exporter": "python",
   "pygments_lexer": "ipython3",
   "version": "3.9.7"
  }
 },
 "nbformat": 4,
 "nbformat_minor": 5
}
