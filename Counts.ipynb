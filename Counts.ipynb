{
 "cells": [
  {
   "cell_type": "code",
   "execution_count": 1,
   "id": "e7e136aa-4e7e-4de2-8ac1-68f0dc327fae",
   "metadata": {},
   "outputs": [],
   "source": [
    "from SPARQLWrapper import SPARQLWrapper, XML, JSON\n",
    "import pandas as pd"
   ]
  },
  {
   "cell_type": "code",
   "execution_count": 3,
   "id": "13236b82-bcf3-4dce-8773-b46ce8e81ee4",
   "metadata": {},
   "outputs": [],
   "source": [
    "#hard code the source for the example\n",
    "source = \"http://sparql.hegroup.org/sparql/\""
   ]
  },
  {
   "cell_type": "markdown",
   "id": "264cb1c7-2a62-4b68-b79b-d29f979d9102",
   "metadata": {},
   "source": [
    "The example query is specificially looking for classes that have VO_ in them. If you have a different string, you can simply replace the regex filter with what you want. Also recommended to change the select count as (first line of query) to what you're counting if it isn't VO_class_count like the example"
   ]
  },
  {
   "cell_type": "code",
   "execution_count": 6,
   "id": "b640602b-c25d-4d07-bdf2-4bbf26a9ce38",
   "metadata": {},
   "outputs": [],
   "source": [
    "def class_counts(source):\n",
    "    sparql = SPARQLWrapper(source)\n",
    "    sparql.setReturnFormat(JSON)\n",
    "    sparql.setQuery(\"\"\"\n",
    "    SELECT count(?s) as ?VO_class_count\n",
    "    FROM <http://purl.obolibrary.org/obo/merged/VO>\n",
    "    WHERE\n",
    "    {\n",
    "    ?s a owl:Class .\n",
    "    ?s rdfs:label ?label .\n",
    "\n",
    "    FILTER regex( ?s, \"VO_\" )\n",
    "    }\n",
    "    \"\"\")\n",
    "    try: \n",
    "        ret = sparql.queryAndConvert()\n",
    "        results = []\n",
    "        for r in ret[\"results\"][\"bindings\"]:\n",
    "            results.append(r)\n",
    "        classes = []\n",
    "        for result in results:\n",
    "            classes.append(result['VO_class_count']['value'])\n",
    "        df = pd.DataFrame({\"VO_class_count\": classes})\n",
    "        pd.set_option('display.max_rows', None)\n",
    "\n",
    "        return df\n",
    "    except: \n",
    "        print(\"Oh Noes!\")"
   ]
  },
  {
   "cell_type": "code",
   "execution_count": 7,
   "id": "6a63693b-be74-41dc-9235-84609479955e",
   "metadata": {},
   "outputs": [
    {
     "data": {
      "text/html": [
       "<div>\n",
       "<style scoped>\n",
       "    .dataframe tbody tr th:only-of-type {\n",
       "        vertical-align: middle;\n",
       "    }\n",
       "\n",
       "    .dataframe tbody tr th {\n",
       "        vertical-align: top;\n",
       "    }\n",
       "\n",
       "    .dataframe thead th {\n",
       "        text-align: right;\n",
       "    }\n",
       "</style>\n",
       "<table border=\"1\" class=\"dataframe\">\n",
       "  <thead>\n",
       "    <tr style=\"text-align: right;\">\n",
       "      <th></th>\n",
       "      <th>VO_class_count</th>\n",
       "    </tr>\n",
       "  </thead>\n",
       "  <tbody>\n",
       "    <tr>\n",
       "      <th>0</th>\n",
       "      <td>6237</td>\n",
       "    </tr>\n",
       "  </tbody>\n",
       "</table>\n",
       "</div>"
      ],
      "text/plain": [
       "  VO_class_count\n",
       "0           6237"
      ]
     },
     "execution_count": 7,
     "metadata": {},
     "output_type": "execute_result"
    }
   ],
   "source": [
    "class_counts(source)"
   ]
  },
  {
   "cell_type": "code",
   "execution_count": 12,
   "id": "caf33efd-6fcf-4e0e-bf92-870b62e5bda6",
   "metadata": {},
   "outputs": [],
   "source": [
    "def object_property_counts(source):\n",
    "    sparql = SPARQLWrapper(source)\n",
    "    sparql.setReturnFormat(JSON)\n",
    "    sparql.setQuery(\"\"\"\n",
    "    SELECT count(?s) as ?VO_object_property_count\n",
    "    FROM <http://purl.obolibrary.org/obo/merged/VO>\n",
    "    WHERE\n",
    "    {\n",
    "    ?s a owl:ObjectProperty .\n",
    "    ?s rdfs:label ?label .\n",
    "\n",
    "    FILTER regex( ?s, \"VO_\" )\n",
    "    }\n",
    "    \"\"\")\n",
    "    try: \n",
    "        ret = sparql.queryAndConvert()\n",
    "        results = []\n",
    "        for r in ret[\"results\"][\"bindings\"]:\n",
    "            results.append(r)\n",
    "        classes = []\n",
    "        for result in results:\n",
    "            classes.append(result['VO_object_property_count']['value'])\n",
    "        df = pd.DataFrame({\"VO_object_property_count\": classes})\n",
    "        pd.set_option('display.max_rows', None)\n",
    "\n",
    "        return df\n",
    "    except: \n",
    "        print(\"Oh Noes!\")"
   ]
  },
  {
   "cell_type": "code",
   "execution_count": 13,
   "id": "60926e18-d6a8-4aaa-b0f7-f2ce16fbdd41",
   "metadata": {},
   "outputs": [
    {
     "data": {
      "text/html": [
       "<div>\n",
       "<style scoped>\n",
       "    .dataframe tbody tr th:only-of-type {\n",
       "        vertical-align: middle;\n",
       "    }\n",
       "\n",
       "    .dataframe tbody tr th {\n",
       "        vertical-align: top;\n",
       "    }\n",
       "\n",
       "    .dataframe thead th {\n",
       "        text-align: right;\n",
       "    }\n",
       "</style>\n",
       "<table border=\"1\" class=\"dataframe\">\n",
       "  <thead>\n",
       "    <tr style=\"text-align: right;\">\n",
       "      <th></th>\n",
       "      <th>VO_object_property_count</th>\n",
       "    </tr>\n",
       "  </thead>\n",
       "  <tbody>\n",
       "    <tr>\n",
       "      <th>0</th>\n",
       "      <td>36</td>\n",
       "    </tr>\n",
       "  </tbody>\n",
       "</table>\n",
       "</div>"
      ],
      "text/plain": [
       "  VO_object_property_count\n",
       "0                       36"
      ]
     },
     "execution_count": 13,
     "metadata": {},
     "output_type": "execute_result"
    }
   ],
   "source": [
    "object_property_counts(source)"
   ]
  },
  {
   "cell_type": "code",
   "execution_count": 14,
   "id": "3ca71206-96dd-4251-ac82-6e889d65a748",
   "metadata": {},
   "outputs": [],
   "source": [
    "def annotation_property_counts(source):\n",
    "    sparql = SPARQLWrapper(source)\n",
    "    sparql.setReturnFormat(JSON)\n",
    "    sparql.setQuery(\"\"\"\n",
    "    SELECT count(?s) as ?VO_annotation_property_count\n",
    "    FROM <http://purl.obolibrary.org/obo/merged/VO>\n",
    "    WHERE\n",
    "    {\n",
    "    ?s a owl:AnnotationProperty .\n",
    "    ?s rdfs:label ?label .\n",
    "\n",
    "    FILTER regex( ?s, \"VO_\" )\n",
    "    }\n",
    "    \"\"\")\n",
    "    try: \n",
    "        ret = sparql.queryAndConvert()\n",
    "        results = []\n",
    "        for r in ret[\"results\"][\"bindings\"]:\n",
    "            results.append(r)\n",
    "        classes = []\n",
    "        for result in results:\n",
    "            classes.append(result['VO_annotation_property_count']['value'])\n",
    "        df = pd.DataFrame({\"VO_annotation_property_count\": classes})\n",
    "        pd.set_option('display.max_rows', None)\n",
    "\n",
    "        return df\n",
    "    except: \n",
    "        print(\"Oh Noes!\")"
   ]
  },
  {
   "cell_type": "code",
   "execution_count": 15,
   "id": "01c33e80-7363-403e-bf9b-204bf4eff39c",
   "metadata": {},
   "outputs": [
    {
     "data": {
      "text/html": [
       "<div>\n",
       "<style scoped>\n",
       "    .dataframe tbody tr th:only-of-type {\n",
       "        vertical-align: middle;\n",
       "    }\n",
       "\n",
       "    .dataframe tbody tr th {\n",
       "        vertical-align: top;\n",
       "    }\n",
       "\n",
       "    .dataframe thead th {\n",
       "        text-align: right;\n",
       "    }\n",
       "</style>\n",
       "<table border=\"1\" class=\"dataframe\">\n",
       "  <thead>\n",
       "    <tr style=\"text-align: right;\">\n",
       "      <th></th>\n",
       "      <th>VO_annotation_property_count</th>\n",
       "    </tr>\n",
       "  </thead>\n",
       "  <tbody>\n",
       "    <tr>\n",
       "      <th>0</th>\n",
       "      <td>28</td>\n",
       "    </tr>\n",
       "  </tbody>\n",
       "</table>\n",
       "</div>"
      ],
      "text/plain": [
       "  VO_annotation_property_count\n",
       "0                           28"
      ]
     },
     "execution_count": 15,
     "metadata": {},
     "output_type": "execute_result"
    }
   ],
   "source": [
    "annotation_property_counts(source)"
   ]
  },
  {
   "cell_type": "code",
   "execution_count": 16,
   "id": "d4544af8-84fd-43dc-9a08-42b17ee4ab22",
   "metadata": {},
   "outputs": [],
   "source": [
    "def datatype_property_counts(source):\n",
    "    sparql = SPARQLWrapper(source)\n",
    "    sparql.setReturnFormat(JSON)\n",
    "    sparql.setQuery(\"\"\"\n",
    "    SELECT count(?s) as ?VO_datatype_property_count\n",
    "    FROM <http://purl.obolibrary.org/obo/merged/VO>\n",
    "    WHERE\n",
    "    {\n",
    "    ?s a owl:DatatypeProperty .\n",
    "    ?s rdfs:label ?label .\n",
    "\n",
    "    FILTER regex( ?s, \"VO_\" )\n",
    "    }\n",
    "    \"\"\")\n",
    "    try: \n",
    "        ret = sparql.queryAndConvert()\n",
    "        results = []\n",
    "        for r in ret[\"results\"][\"bindings\"]:\n",
    "            results.append(r)\n",
    "        classes = []\n",
    "        for result in results:\n",
    "            classes.append(result['VO_datatype_property_count']['value'])\n",
    "        df = pd.DataFrame({\"VO_datatype_property_count\": classes})\n",
    "        pd.set_option('display.max_rows', None)\n",
    "\n",
    "        return df\n",
    "    except: \n",
    "        print(\"Oh Noes!\")"
   ]
  },
  {
   "cell_type": "code",
   "execution_count": 17,
   "id": "19ef99e1-7448-46f7-b22e-f86ffe31097f",
   "metadata": {},
   "outputs": [
    {
     "data": {
      "text/html": [
       "<div>\n",
       "<style scoped>\n",
       "    .dataframe tbody tr th:only-of-type {\n",
       "        vertical-align: middle;\n",
       "    }\n",
       "\n",
       "    .dataframe tbody tr th {\n",
       "        vertical-align: top;\n",
       "    }\n",
       "\n",
       "    .dataframe thead th {\n",
       "        text-align: right;\n",
       "    }\n",
       "</style>\n",
       "<table border=\"1\" class=\"dataframe\">\n",
       "  <thead>\n",
       "    <tr style=\"text-align: right;\">\n",
       "      <th></th>\n",
       "      <th>VO_datatype_property_count</th>\n",
       "    </tr>\n",
       "  </thead>\n",
       "  <tbody>\n",
       "    <tr>\n",
       "      <th>0</th>\n",
       "      <td>0</td>\n",
       "    </tr>\n",
       "  </tbody>\n",
       "</table>\n",
       "</div>"
      ],
      "text/plain": [
       "  VO_datatype_property_count\n",
       "0                          0"
      ]
     },
     "execution_count": 17,
     "metadata": {},
     "output_type": "execute_result"
    }
   ],
   "source": [
    "datatype_property_counts(source)"
   ]
  }
 ],
 "metadata": {
  "kernelspec": {
   "display_name": "Python 3 (ipykernel)",
   "language": "python",
   "name": "python3"
  },
  "language_info": {
   "codemirror_mode": {
    "name": "ipython",
    "version": 3
   },
   "file_extension": ".py",
   "mimetype": "text/x-python",
   "name": "python",
   "nbconvert_exporter": "python",
   "pygments_lexer": "ipython3",
   "version": "3.9.7"
  }
 },
 "nbformat": 4,
 "nbformat_minor": 5
}
